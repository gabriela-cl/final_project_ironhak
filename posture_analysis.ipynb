{
 "cells": [
  {
   "cell_type": "markdown",
   "id": "5b523c70-1112-4447-95a6-1bdb3688acd3",
   "metadata": {},
   "source": [
    "# **Posture Evaluation**"
   ]
  },
  {
   "cell_type": "markdown",
   "id": "1536d6c4-febf-4616-b8e3-56eab7c94f37",
   "metadata": {},
   "source": [
    "#### The objective of this part of the project is to receive a picture of a person sitted in an office enviroment and give recommendations of chair and table adjustments, so you can set a more personalised & ergonimic workplace."
   ]
  },
  {
   "cell_type": "markdown",
   "id": "708d3d80-52b0-4556-80e7-68a206ad4c87",
   "metadata": {},
   "source": [
    "#### Install **Mediapipe Pose**: This framework can detect and track 33 key landmarks on the human body, including shoulders, elbows, wrists, hips, knees, and ankles."
   ]
  },
  {
   "cell_type": "code",
   "execution_count": 1,
   "id": "11b7b726-9953-4e2c-b2e6-f8d0fb1a0275",
   "metadata": {},
   "outputs": [
    {
     "name": "stdout",
     "output_type": "stream",
     "text": [
      "Requirement already satisfied: mediapipe in /opt/anaconda3/lib/python3.11/site-packages (0.10.14)\n",
      "Requirement already satisfied: absl-py in /opt/anaconda3/lib/python3.11/site-packages (from mediapipe) (2.1.0)\n",
      "Requirement already satisfied: attrs>=19.1.0 in /opt/anaconda3/lib/python3.11/site-packages (from mediapipe) (23.1.0)\n",
      "Requirement already satisfied: flatbuffers>=2.0 in /opt/anaconda3/lib/python3.11/site-packages (from mediapipe) (24.3.25)\n",
      "Requirement already satisfied: jax in /opt/anaconda3/lib/python3.11/site-packages (from mediapipe) (0.4.31)\n",
      "Requirement already satisfied: jaxlib in /opt/anaconda3/lib/python3.11/site-packages (from mediapipe) (0.4.31)\n",
      "Requirement already satisfied: matplotlib in /opt/anaconda3/lib/python3.11/site-packages (from mediapipe) (3.8.0)\n",
      "Requirement already satisfied: numpy in /opt/anaconda3/lib/python3.11/site-packages (from mediapipe) (1.26.4)\n",
      "Requirement already satisfied: opencv-contrib-python in /opt/anaconda3/lib/python3.11/site-packages (from mediapipe) (4.10.0.84)\n",
      "Requirement already satisfied: protobuf<5,>=4.25.3 in /opt/anaconda3/lib/python3.11/site-packages (from mediapipe) (4.25.4)\n",
      "Requirement already satisfied: sounddevice>=0.4.4 in /opt/anaconda3/lib/python3.11/site-packages (from mediapipe) (0.4.7)\n",
      "Requirement already satisfied: CFFI>=1.0 in /opt/anaconda3/lib/python3.11/site-packages (from sounddevice>=0.4.4->mediapipe) (1.16.0)\n",
      "Requirement already satisfied: ml-dtypes>=0.2.0 in /opt/anaconda3/lib/python3.11/site-packages (from jax->mediapipe) (0.4.0)\n",
      "Requirement already satisfied: opt-einsum in /opt/anaconda3/lib/python3.11/site-packages (from jax->mediapipe) (3.3.0)\n",
      "Requirement already satisfied: scipy>=1.10 in /opt/anaconda3/lib/python3.11/site-packages (from jax->mediapipe) (1.11.4)\n",
      "Requirement already satisfied: contourpy>=1.0.1 in /opt/anaconda3/lib/python3.11/site-packages (from matplotlib->mediapipe) (1.2.0)\n",
      "Requirement already satisfied: cycler>=0.10 in /opt/anaconda3/lib/python3.11/site-packages (from matplotlib->mediapipe) (0.11.0)\n",
      "Requirement already satisfied: fonttools>=4.22.0 in /opt/anaconda3/lib/python3.11/site-packages (from matplotlib->mediapipe) (4.25.0)\n",
      "Requirement already satisfied: kiwisolver>=1.0.1 in /opt/anaconda3/lib/python3.11/site-packages (from matplotlib->mediapipe) (1.4.4)\n",
      "Requirement already satisfied: packaging>=20.0 in /opt/anaconda3/lib/python3.11/site-packages (from matplotlib->mediapipe) (23.1)\n",
      "Requirement already satisfied: pillow>=6.2.0 in /opt/anaconda3/lib/python3.11/site-packages (from matplotlib->mediapipe) (10.2.0)\n",
      "Requirement already satisfied: pyparsing>=2.3.1 in /opt/anaconda3/lib/python3.11/site-packages (from matplotlib->mediapipe) (3.0.9)\n",
      "Requirement already satisfied: python-dateutil>=2.7 in /opt/anaconda3/lib/python3.11/site-packages (from matplotlib->mediapipe) (2.8.2)\n",
      "Requirement already satisfied: pycparser in /opt/anaconda3/lib/python3.11/site-packages (from CFFI>=1.0->sounddevice>=0.4.4->mediapipe) (2.21)\n",
      "Requirement already satisfied: six>=1.5 in /opt/anaconda3/lib/python3.11/site-packages (from python-dateutil>=2.7->matplotlib->mediapipe) (1.16.0)\n"
     ]
    }
   ],
   "source": [
    "!pip install mediapipe"
   ]
  },
  {
   "cell_type": "markdown",
   "id": "066da07f-5a4f-41a5-b915-ee9d10d77f76",
   "metadata": {},
   "source": [
    "#### Install **OpenCV (Open Source Computer Vision Library)** for image and video processing:"
   ]
  },
  {
   "cell_type": "code",
   "execution_count": 2,
   "id": "f7cb5ef2-9e31-4f1f-84e1-bbc443f5006c",
   "metadata": {},
   "outputs": [
    {
     "name": "stdout",
     "output_type": "stream",
     "text": [
      "Requirement already satisfied: opencv-python in /opt/anaconda3/lib/python3.11/site-packages (4.10.0.84)\n",
      "Requirement already satisfied: numpy>=1.21.2 in /opt/anaconda3/lib/python3.11/site-packages (from opencv-python) (1.26.4)\n"
     ]
    }
   ],
   "source": [
    "!pip install opencv-python"
   ]
  },
  {
   "cell_type": "code",
   "execution_count": 1,
   "id": "dba2045f-3f52-45c8-8cea-91077ab60aa3",
   "metadata": {},
   "outputs": [
    {
     "name": "stdout",
     "output_type": "stream",
     "text": [
      "OpenCV version: 4.10.0\n",
      "MediaPipe version: 0.10.14\n"
     ]
    }
   ],
   "source": [
    "import cv2\n",
    "import mediapipe as mp\n",
    "import numpy as np\n",
    "print(\"OpenCV version:\", cv2.__version__)\n",
    "print(\"MediaPipe version:\", mp.__version__)"
   ]
  },
  {
   "cell_type": "code",
   "execution_count": 2,
   "id": "45a9991c-6363-4790-8920-fcd2fd8409a4",
   "metadata": {},
   "outputs": [
    {
     "name": "stderr",
     "output_type": "stream",
     "text": [
      "WARNING: All log messages before absl::InitializeLog() is called are written to STDERR\n",
      "I0000 00:00:1723035437.394379 237540271 gl_context.cc:357] GL version: 2.1 (2.1 Metal - 88.1), renderer: Apple M2\n"
     ]
    }
   ],
   "source": [
    "# Initialize MediaPipe Pose\n",
    "mp_pose = mp.solutions.pose\n",
    "pose = mp_pose.Pose(static_image_mode=True)"
   ]
  },
  {
   "cell_type": "markdown",
   "id": "ec7d2d77-c178-4a6a-818f-9ff457c22c3a",
   "metadata": {},
   "source": [
    "## Calculate the angles"
   ]
  },
  {
   "cell_type": "markdown",
   "id": "2f4239c5-726b-4b20-93f2-5394575ffc42",
   "metadata": {},
   "source": [
    "It calculates the angles of hip, knee and ankle to see if they are inside of the recommended range:"
   ]
  },
  {
   "cell_type": "code",
   "execution_count": 3,
   "id": "5a69305f-f84c-48fe-9355-12d9943adf20",
   "metadata": {},
   "outputs": [
    {
     "name": "stderr",
     "output_type": "stream",
     "text": [
      "INFO: Created TensorFlow Lite XNNPACK delegate for CPU.\n"
     ]
    }
   ],
   "source": [
    "# Load the image\n",
    "image = cv2.imread('images/img_chair_up.png')"
   ]
  },
  {
   "cell_type": "code",
   "execution_count": 4,
   "id": "76e56a71-2975-42d1-83fd-49fe55ba54a1",
   "metadata": {},
   "outputs": [
    {
     "name": "stderr",
     "output_type": "stream",
     "text": [
      "W0000 00:00:1723035437.458111 237543487 inference_feedback_manager.cc:114] Feedback manager requires a model with a single signature inference. Disabling support for feedback tensors.\n",
      "W0000 00:00:1723035437.464569 237543487 inference_feedback_manager.cc:114] Feedback manager requires a model with a single signature inference. Disabling support for feedback tensors.\n",
      "/opt/anaconda3/lib/python3.11/site-packages/google/protobuf/symbol_database.py:55: UserWarning: SymbolDatabase.GetPrototype() is deprecated. Please use message_factory.GetMessageClass() instead. SymbolDatabase.GetPrototype() will be removed soon.\n",
      "  warnings.warn('SymbolDatabase.GetPrototype() is deprecated. Please '\n"
     ]
    }
   ],
   "source": [
    "# Process the image to find pose landmarks\n",
    "results = pose.process(cv2.cvtColor(image, cv2.COLOR_BGR2RGB))"
   ]
  },
  {
   "cell_type": "code",
   "execution_count": 5,
   "id": "5fef50e0-34fd-4708-a9d3-8d8abb98f20c",
   "metadata": {},
   "outputs": [
    {
     "name": "stdout",
     "output_type": "stream",
     "text": [
      "Detected Right Side\n",
      "Hip Angle: 99.06 degrees\n",
      "Knee Angle: 94.78 degrees\n",
      "Elbow Angle: 125.21 degrees\n"
     ]
    }
   ],
   "source": [
    "# Process the image to find pose landmarks\n",
    "results = pose.process(cv2.cvtColor(image, cv2.COLOR_BGR2RGB))\n",
    "\n",
    "# Function to calculate the angle between three points\n",
    "def calculate_angle(a, b, c):\n",
    "    a = np.array(a)\n",
    "    b = np.array(b)\n",
    "    c = np.array(c)\n",
    "    ba = a - b\n",
    "    bc = c - b\n",
    "    cosine_angle = np.dot(ba, bc) / (np.linalg.norm(ba) * np.linalg.norm(bc))\n",
    "    angle = np.arccos(cosine_angle)\n",
    "    return np.degrees(angle)\n",
    "\n",
    "# Extract keypoints (landmarks) and calculate angles if landmarks are detected\n",
    "if results.pose_landmarks:\n",
    "    landmarks = results.pose_landmarks.landmark\n",
    "    \n",
    "    # Extract left landmarks\n",
    "    left_shoulder = [landmarks[mp_pose.PoseLandmark.LEFT_SHOULDER.value].x,\n",
    "                     landmarks[mp_pose.PoseLandmark.LEFT_SHOULDER.value].y]\n",
    "    left_elbow = [landmarks[mp_pose.PoseLandmark.LEFT_ELBOW.value].x,\n",
    "                  landmarks[mp_pose.PoseLandmark.LEFT_ELBOW.value].y]\n",
    "    left_wrist = [landmarks[mp_pose.PoseLandmark.LEFT_WRIST.value].x,\n",
    "                  landmarks[mp_pose.PoseLandmark.LEFT_WRIST.value].y]\n",
    "    left_hip = [landmarks[mp_pose.PoseLandmark.LEFT_HIP.value].x,\n",
    "                landmarks[mp_pose.PoseLandmark.LEFT_HIP.value].y]\n",
    "    left_knee = [landmarks[mp_pose.PoseLandmark.LEFT_KNEE.value].x,\n",
    "                 landmarks[mp_pose.PoseLandmark.LEFT_KNEE.value].y]\n",
    "    left_ankle = [landmarks[mp_pose.PoseLandmark.LEFT_ANKLE.value].x,\n",
    "                  landmarks[mp_pose.PoseLandmark.LEFT_ANKLE.value].y]\n",
    "\n",
    "    # Extract right landmarks\n",
    "    right_shoulder = [landmarks[mp_pose.PoseLandmark.RIGHT_SHOULDER.value].x,\n",
    "                      landmarks[mp_pose.PoseLandmark.RIGHT_SHOULDER.value].y]\n",
    "    right_elbow = [landmarks[mp_pose.PoseLandmark.RIGHT_ELBOW.value].x,\n",
    "                   landmarks[mp_pose.PoseLandmark.RIGHT_ELBOW.value].y]\n",
    "    right_wrist = [landmarks[mp_pose.PoseLandmark.RIGHT_WRIST.value].x,\n",
    "                   landmarks[mp_pose.PoseLandmark.RIGHT_WRIST.value].y]\n",
    "    right_hip = [landmarks[mp_pose.PoseLandmark.RIGHT_HIP.value].x,\n",
    "                 landmarks[mp_pose.PoseLandmark.RIGHT_HIP.value].y]\n",
    "    right_knee = [landmarks[mp_pose.PoseLandmark.RIGHT_KNEE.value].x,\n",
    "                  landmarks[mp_pose.PoseLandmark.RIGHT_KNEE.value].y]\n",
    "    right_ankle = [landmarks[mp_pose.PoseLandmark.RIGHT_ANKLE.value].x,\n",
    "                   landmarks[mp_pose.PoseLandmark.RIGHT_ANKLE.value].y]\n",
    "\n",
    "    # Calculate angles for the left side\n",
    "    left_hip_angle = calculate_angle(left_shoulder, left_hip, left_knee)\n",
    "    left_knee_angle = calculate_angle(left_hip, left_knee, left_ankle)\n",
    "    left_elbow_angle = calculate_angle(left_shoulder, left_elbow, left_wrist)\n",
    "\n",
    "    # Calculate angles for the right side\n",
    "    right_hip_angle = calculate_angle(right_shoulder, right_hip, right_knee)\n",
    "    right_knee_angle = calculate_angle(right_hip, right_knee, right_ankle)\n",
    "    right_elbow_angle = calculate_angle(right_shoulder, right_elbow, right_wrist)\n",
    "\n",
    "    # Determine which side is more visible based on confidence scores\n",
    "    if landmarks[mp_pose.PoseLandmark.LEFT_HIP.value].visibility > landmarks[mp_pose.PoseLandmark.RIGHT_HIP.value].visibility:\n",
    "        print(\"Detected Left Side\")\n",
    "        hip_angle = left_hip_angle\n",
    "        knee_angle = left_knee_angle\n",
    "        elbow_angle = left_elbow_angle\n",
    "        \n",
    "        print(f'Hip Angle: {left_hip_angle:.2f} degrees')\n",
    "        print(f'Knee Angle: {left_knee_angle:.2f} degrees')\n",
    "        print(f'Elbow Angle: {left_elbow_angle:.2f} degrees')\n",
    "    else:\n",
    "        print(\"Detected Right Side\")\n",
    "        hip_angle = right_hip_angle\n",
    "        knee_angle = right_knee_angle\n",
    "        elbow_angle = right_elbow_angle\n",
    "        print(f'Hip Angle: {right_hip_angle:.2f} degrees')\n",
    "        print(f'Knee Angle: {right_knee_angle:.2f} degrees')\n",
    "        print(f'Elbow Angle: {right_elbow_angle:.2f} degrees')\n",
    "\n",
    "# Display image with pose landmarks (optional)\n",
    "#mp_drawing = mp.solutions.drawing_utils\n",
    "#mp_drawing.draw_landmarks(image, results.pose_landmarks, mp_pose.POSE_CONNECTIONS)\n",
    "#cv2.imshow('Pose Detection', image)\n",
    "#cv2.waitKey(0)\n",
    "#cv2.destroyAllWindows()"
   ]
  },
  {
   "cell_type": "markdown",
   "id": "2e6aa14e-49a8-48f5-8ea4-aa0e4200061a",
   "metadata": {},
   "source": [
    "## Recommended angles"
   ]
  },
  {
   "cell_type": "markdown",
   "id": "13c4c7c7-f48e-4391-96e4-5d2e9596e189",
   "metadata": {},
   "source": [
    "**Hip**: 90-120 degrees\n",
    "\n",
    "**Knee**: 90-130 degrees\n",
    "\n",
    "**Elbows**: 90-120 degrees"
   ]
  },
  {
   "cell_type": "code",
   "execution_count": 12,
   "id": "494f4a40-e843-493c-abef-ad556f2820c0",
   "metadata": {},
   "outputs": [
    {
     "ename": "NameError",
     "evalue": "name 'pose' is not defined",
     "output_type": "error",
     "traceback": [
      "\u001b[0;31m---------------------------------------------------------------------------\u001b[0m",
      "\u001b[0;31mNameError\u001b[0m                                 Traceback (most recent call last)",
      "Cell \u001b[0;32mIn[12], line 1\u001b[0m\n\u001b[0;32m----> 1\u001b[0m \u001b[38;5;28;01mimport\u001b[39;00m \u001b[38;5;21;01mergonomic_recommendations\u001b[39;00m\n",
      "File \u001b[0;32m~/Documents/GitHub/final_project_ironhak/ergonomic_recommendations.py:1\u001b[0m\n\u001b[0;32m----> 1\u001b[0m results \u001b[38;5;241m=\u001b[39m pose\u001b[38;5;241m.\u001b[39mprocess(cv2\u001b[38;5;241m.\u001b[39mcvtColor(image, cv2\u001b[38;5;241m.\u001b[39mCOLOR_BGR2RGB))\n\u001b[1;32m      3\u001b[0m \u001b[38;5;28;01mdef\u001b[39;00m \u001b[38;5;21mcalculate_angle\u001b[39m(a, b, c):\n\u001b[1;32m      4\u001b[0m     a \u001b[38;5;241m=\u001b[39m np\u001b[38;5;241m.\u001b[39marray(a)\n",
      "\u001b[0;31mNameError\u001b[0m: name 'pose' is not defined"
     ]
    }
   ],
   "source": [
    "import ergonomic_recommendations"
   ]
  },
  {
   "cell_type": "code",
   "execution_count": null,
   "id": "53b0e101-4951-473c-a601-5f0b770195a2",
   "metadata": {},
   "outputs": [],
   "source": [
    "#function for recommendations if the desk is not adjustable:\n",
    "\n",
    "def ergonomic_analysis_fixed_desk(elbow_angle, hip_angle, knee_angle):\n",
    "    recommendations = []\n",
    "\n",
    "    # Case 1: Elbow angle < 90 (Raise chair)\n",
    "    if elbow_angle < 90:\n",
    "        if hip_angle > 120 and knee_angle > 130:\n",
    "            recommendations.append(\"Raise the chair and use a footrest to correct hip and knee angles.\")\n",
    "        elif hip_angle > 120:\n",
    "            recommendations.append(\"Raise the chair and use a footrest to correct hip angle.\")\n",
    "        elif knee_angle > 130:\n",
    "            recommendations.append(\"Raise the chair and use a footrest to correct knee angle.\")\n",
    "        else:\n",
    "            recommendations.append(\"Raise the chair to increase elbow angle.\")\n",
    "\n",
    "    # Case 2: Elbow angle > 120 (Lower chair)\n",
    "    elif elbow_angle > 120:\n",
    "        if hip_angle < 90 and knee_angle < 90:\n",
    "            recommendations.append(\"Lower the chair to correct elbow, hip, and knee angles.\")\n",
    "        elif hip_angle < 90:\n",
    "            recommendations.append(\"Lower the chair to correct elbow and hip angles.\")\n",
    "        elif knee_angle < 90:\n",
    "            recommendations.append(\"Lower the chair to correct elbow and knee angles.\")\n",
    "        else:\n",
    "            recommendations.append(\"Lower the chair to decrease elbow angle.\")\n",
    "\n",
    "    # Case 3: Hip angle < 90 (Raise chair)\n",
    "    if hip_angle < 90 and elbow_angle >= 90 and elbow_angle <= 120:\n",
    "        if knee_angle < 90:\n",
    "            recommendations.append(\"Raise the chair to correct hip and knee angles.\")\n",
    "        else:\n",
    "            recommendations.append(\"Raise the chair to increase hip angle.\")\n",
    "\n",
    "    # Case 4: Hip angle > 120 (Lower chair)\n",
    "    elif hip_angle > 120 and elbow_angle >= 90 and elbow_angle <= 120:\n",
    "        if knee_angle > 130:\n",
    "            recommendations.append(\"Lower the chair to correct hip and knee angles.\")\n",
    "        else:\n",
    "            recommendations.append(\"Lower the chair to decrease hip angle.\")\n",
    "\n",
    "    # Case 5: Knee angle < 90 (Raise chair)\n",
    "    if knee_angle < 90 and elbow_angle >= 90 and elbow_angle <= 120 and hip_angle >= 90 and hip_angle <= 120:\n",
    "        recommendations.append(\"Raise the chair to increase knee angle. Use a footrest if needed.\")\n",
    "\n",
    "    # Case 6: Knee angle > 130 (Lower chair)\n",
    "    elif knee_angle > 130 and elbow_angle >= 90 and elbow_angle <= 120 and hip_angle >= 90 and hip_angle <= 120:\n",
    "        recommendations.append(\"Lower the chair to decrease knee angle.\")\n",
    "\n",
    "    # Output recommendations\n",
    "    if not recommendations:\n",
    "        return \"All angles are within recommended ranges. No adjustments needed.\"\n",
    "    else:\n",
    "        return recommendations"
   ]
  },
  {
   "cell_type": "code",
   "execution_count": null,
   "id": "0ba05c3d-464e-4dcb-81fd-4edc1546c351",
   "metadata": {},
   "outputs": [],
   "source": [
    "#function for recommendations if the desk is adjustable:\n",
    "\n"
   ]
  },
  {
   "cell_type": "code",
   "execution_count": 9,
   "id": "c5c1888b-3e3c-4ec4-9440-7b6d616ec50d",
   "metadata": {},
   "outputs": [],
   "source": [
    "#determine if the desk is adjustable:\n",
    "\n",
    "desk_adj = input(\"Do you have a standing desk (adjustable)? Please answer with 'yes' or 'no'.\").lower()\n",
    "\n",
    "if desk_adj == 'yes':\n",
    "    #recommendations_desk\n",
    "\n",
    "elif desk_adj == 'no':\n",
    "    result = ergonomic_analysis_fixed_desk(elbow_angle, hip_angle, knee_angle)\n",
    "    for recommendation in result:\n",
    "        print(recommendation)\n",
    "    \n",
    "else:\n",
    "    print(\"Please enter a valid answer ('yes' or 'no').\")\n"
   ]
  },
  {
   "cell_type": "code",
   "execution_count": 8,
   "id": "68a78eac-ba91-4688-bfcd-fbf3b0779e69",
   "metadata": {},
   "outputs": [
    {
     "name": "stdout",
     "output_type": "stream",
     "text": [
      "Lower chair or raise desk to decrease elbow angle.\n"
     ]
    }
   ],
   "source": [
    "def ergonomic_analysis(elbow_angle, hip_angle, knee_angle):\n",
    "    recommendations = []\n",
    "\n",
    "    # Elbow Angle\n",
    "    if elbow_angle < 90:\n",
    "        recommendations.append(\"Raise chair or lower desk to increase elbow angle.\")\n",
    "    elif elbow_angle > 120:\n",
    "        recommendations.append(\"Lower chair or raise desk to decrease elbow angle.\")\n",
    "\n",
    "    # Hip Angle\n",
    "    if hip_angle < 90:\n",
    "        recommendations.append(\"Raise chair to increase hip angle. Consider using a footrest.\")\n",
    "    elif hip_angle > 120:\n",
    "        recommendations.append(\"Lower chair to decrease hip angle.\")\n",
    "\n",
    "    # Knee Angle\n",
    "    if knee_angle < 90:\n",
    "        recommendations.append(\"Raise chair to increase knee angle. Ensure feet are flat on the floor or use a footrest.\")\n",
    "    elif knee_angle > 130:\n",
    "        recommendations.append(\"Lower chair to decrease knee angle.\")\n",
    "\n",
    "    # Output recommendations\n",
    "    if not recommendations:\n",
    "        return \"All angles are within recommended ranges. No adjustments needed.\"\n",
    "    else:\n",
    "        return recommendations\n",
    "\n",
    "result = ergonomic_analysis(elbow_angle, hip_angle, knee_angle)\n",
    "for recommendation in result:\n",
    "    print(recommendation)"
   ]
  },
  {
   "cell_type": "markdown",
   "id": "a08fd39d-efc4-40c6-a908-a7501ce01d7d",
   "metadata": {},
   "source": [
    "## Interface"
   ]
  },
  {
   "cell_type": "markdown",
   "id": "d4e53e48-2c44-470a-80bb-e5b4c305a4c3",
   "metadata": {},
   "source": [
    "Build an interface to make it acessible for a user to upload a picture and get recommendations"
   ]
  },
  {
   "cell_type": "code",
   "execution_count": null,
   "id": "9fb87ee0-b4fc-4d39-9005-99967b777f32",
   "metadata": {},
   "outputs": [],
   "source": [
    "#streamlit, gradio, flask interfaces"
   ]
  },
  {
   "cell_type": "code",
   "execution_count": null,
   "id": "1d81db40-6206-46ec-b034-6c7bc36ed9ca",
   "metadata": {},
   "outputs": [],
   "source": []
  }
 ],
 "metadata": {
  "kernelspec": {
   "display_name": "Python 3 (ipykernel)",
   "language": "python",
   "name": "python3"
  },
  "language_info": {
   "codemirror_mode": {
    "name": "ipython",
    "version": 3
   },
   "file_extension": ".py",
   "mimetype": "text/x-python",
   "name": "python",
   "nbconvert_exporter": "python",
   "pygments_lexer": "ipython3",
   "version": "3.11.9"
  }
 },
 "nbformat": 4,
 "nbformat_minor": 5
}
