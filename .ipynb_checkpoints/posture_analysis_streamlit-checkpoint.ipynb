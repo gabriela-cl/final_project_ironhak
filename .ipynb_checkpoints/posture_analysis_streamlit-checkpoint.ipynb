{
 "cells": [
  {
   "cell_type": "markdown",
   "id": "5b523c70-1112-4447-95a6-1bdb3688acd3",
   "metadata": {},
   "source": [
    "# **Posture Evaluation**"
   ]
  },
  {
   "cell_type": "markdown",
   "id": "1536d6c4-febf-4616-b8e3-56eab7c94f37",
   "metadata": {},
   "source": [
    "#### The objective of this part of the project is to receive a picture of a person sitted in an office enviroment and give recommendations of chair and table adjustments, so you can set a more personalised & ergonimic workplace."
   ]
  },
  {
   "cell_type": "markdown",
   "id": "708d3d80-52b0-4556-80e7-68a206ad4c87",
   "metadata": {},
   "source": [
    "#### Install **Mediapipe Pose**: This framework can detect and track 33 key landmarks on the human body, including shoulders, elbows, wrists, hips, knees, and ankles."
   ]
  },
  {
   "cell_type": "code",
   "execution_count": 1,
   "id": "11b7b726-9953-4e2c-b2e6-f8d0fb1a0275",
   "metadata": {},
   "outputs": [
    {
     "name": "stdout",
     "output_type": "stream",
     "text": [
      "Requirement already satisfied: mediapipe in /opt/anaconda3/lib/python3.11/site-packages (0.10.14)\n",
      "Requirement already satisfied: absl-py in /opt/anaconda3/lib/python3.11/site-packages (from mediapipe) (2.1.0)\n",
      "Requirement already satisfied: attrs>=19.1.0 in /opt/anaconda3/lib/python3.11/site-packages (from mediapipe) (23.1.0)\n",
      "Requirement already satisfied: flatbuffers>=2.0 in /opt/anaconda3/lib/python3.11/site-packages (from mediapipe) (24.3.25)\n",
      "Requirement already satisfied: jax in /opt/anaconda3/lib/python3.11/site-packages (from mediapipe) (0.4.31)\n",
      "Requirement already satisfied: jaxlib in /opt/anaconda3/lib/python3.11/site-packages (from mediapipe) (0.4.31)\n",
      "Requirement already satisfied: matplotlib in /opt/anaconda3/lib/python3.11/site-packages (from mediapipe) (3.8.0)\n",
      "Requirement already satisfied: numpy in /opt/anaconda3/lib/python3.11/site-packages (from mediapipe) (1.26.4)\n",
      "Requirement already satisfied: opencv-contrib-python in /opt/anaconda3/lib/python3.11/site-packages (from mediapipe) (4.10.0.84)\n",
      "Requirement already satisfied: protobuf<5,>=4.25.3 in /opt/anaconda3/lib/python3.11/site-packages (from mediapipe) (4.25.4)\n",
      "Requirement already satisfied: sounddevice>=0.4.4 in /opt/anaconda3/lib/python3.11/site-packages (from mediapipe) (0.4.7)\n",
      "Requirement already satisfied: CFFI>=1.0 in /opt/anaconda3/lib/python3.11/site-packages (from sounddevice>=0.4.4->mediapipe) (1.16.0)\n",
      "Requirement already satisfied: ml-dtypes>=0.2.0 in /opt/anaconda3/lib/python3.11/site-packages (from jax->mediapipe) (0.4.0)\n",
      "Requirement already satisfied: opt-einsum in /opt/anaconda3/lib/python3.11/site-packages (from jax->mediapipe) (3.3.0)\n",
      "Requirement already satisfied: scipy>=1.10 in /opt/anaconda3/lib/python3.11/site-packages (from jax->mediapipe) (1.11.4)\n",
      "Requirement already satisfied: contourpy>=1.0.1 in /opt/anaconda3/lib/python3.11/site-packages (from matplotlib->mediapipe) (1.2.0)\n",
      "Requirement already satisfied: cycler>=0.10 in /opt/anaconda3/lib/python3.11/site-packages (from matplotlib->mediapipe) (0.11.0)\n",
      "Requirement already satisfied: fonttools>=4.22.0 in /opt/anaconda3/lib/python3.11/site-packages (from matplotlib->mediapipe) (4.25.0)\n",
      "Requirement already satisfied: kiwisolver>=1.0.1 in /opt/anaconda3/lib/python3.11/site-packages (from matplotlib->mediapipe) (1.4.4)\n",
      "Requirement already satisfied: packaging>=20.0 in /opt/anaconda3/lib/python3.11/site-packages (from matplotlib->mediapipe) (23.1)\n",
      "Requirement already satisfied: pillow>=6.2.0 in /opt/anaconda3/lib/python3.11/site-packages (from matplotlib->mediapipe) (10.2.0)\n",
      "Requirement already satisfied: pyparsing>=2.3.1 in /opt/anaconda3/lib/python3.11/site-packages (from matplotlib->mediapipe) (3.0.9)\n",
      "Requirement already satisfied: python-dateutil>=2.7 in /opt/anaconda3/lib/python3.11/site-packages (from matplotlib->mediapipe) (2.8.2)\n",
      "Requirement already satisfied: pycparser in /opt/anaconda3/lib/python3.11/site-packages (from CFFI>=1.0->sounddevice>=0.4.4->mediapipe) (2.21)\n",
      "Requirement already satisfied: six>=1.5 in /opt/anaconda3/lib/python3.11/site-packages (from python-dateutil>=2.7->matplotlib->mediapipe) (1.16.0)\n"
     ]
    }
   ],
   "source": [
    "!pip install mediapipe"
   ]
  },
  {
   "cell_type": "markdown",
   "id": "066da07f-5a4f-41a5-b915-ee9d10d77f76",
   "metadata": {},
   "source": [
    "#### Install **OpenCV (Open Source Computer Vision Library)** for image and video processing:"
   ]
  },
  {
   "cell_type": "code",
   "execution_count": 2,
   "id": "f7cb5ef2-9e31-4f1f-84e1-bbc443f5006c",
   "metadata": {},
   "outputs": [
    {
     "name": "stdout",
     "output_type": "stream",
     "text": [
      "Requirement already satisfied: opencv-python in /opt/anaconda3/lib/python3.11/site-packages (4.10.0.84)\n",
      "Requirement already satisfied: numpy>=1.21.2 in /opt/anaconda3/lib/python3.11/site-packages (from opencv-python) (1.26.4)\n"
     ]
    }
   ],
   "source": [
    "!pip install opencv-python"
   ]
  },
  {
   "cell_type": "code",
   "execution_count": 1,
   "id": "dba2045f-3f52-45c8-8cea-91077ab60aa3",
   "metadata": {},
   "outputs": [
    {
     "name": "stdout",
     "output_type": "stream",
     "text": [
      "OpenCV version: 4.10.0\n",
      "MediaPipe version: 0.10.14\n"
     ]
    }
   ],
   "source": [
    "import cv2\n",
    "import mediapipe as mp\n",
    "import numpy as np\n",
    "print(\"OpenCV version:\", cv2.__version__)\n",
    "print(\"MediaPipe version:\", mp.__version__)"
   ]
  },
  {
   "cell_type": "code",
   "execution_count": 2,
   "id": "45a9991c-6363-4790-8920-fcd2fd8409a4",
   "metadata": {},
   "outputs": [
    {
     "name": "stderr",
     "output_type": "stream",
     "text": [
      "WARNING: All log messages before absl::InitializeLog() is called are written to STDERR\n",
      "I0000 00:00:1723124229.880454 242090582 gl_context.cc:357] GL version: 2.1 (2.1 Metal - 88.1), renderer: Apple M2\n",
      "INFO: Created TensorFlow Lite XNNPACK delegate for CPU.\n",
      "W0000 00:00:1723124229.952471 242090675 inference_feedback_manager.cc:114] Feedback manager requires a model with a single signature inference. Disabling support for feedback tensors.\n",
      "W0000 00:00:1723124229.966243 242090675 inference_feedback_manager.cc:114] Feedback manager requires a model with a single signature inference. Disabling support for feedback tensors.\n"
     ]
    }
   ],
   "source": [
    "# Initialize MediaPipe Pose\n",
    "mp_pose = mp.solutions.pose\n",
    "pose = mp_pose.Pose(static_image_mode=True)\n",
    "mp_drawing = mp.solutions.drawing_utils"
   ]
  },
  {
   "cell_type": "markdown",
   "id": "ec7d2d77-c178-4a6a-818f-9ff457c22c3a",
   "metadata": {},
   "source": [
    "## Calculate the angles"
   ]
  },
  {
   "cell_type": "markdown",
   "id": "2f4239c5-726b-4b20-93f2-5394575ffc42",
   "metadata": {},
   "source": [
    "It calculates the angles of hip, knee and ankle to see if they are inside of the recommended range:"
   ]
  },
  {
   "cell_type": "code",
   "execution_count": 17,
   "id": "7fa2ab3e-79ff-4157-bd45-25ce269e81e2",
   "metadata": {},
   "outputs": [
    {
     "name": "stdout",
     "output_type": "stream",
     "text": [
      "Please make sure that your hips are as back as possible on the chair seat.\n",
      "Your back is straight, as tall as possible.\n",
      "Your feet are directly under your knee and resting on the floor.\n",
      "Keep your elbows close to your body and the wrists resting on the table.\n",
      "Take a picture from the side, try to NOT take it fom a diagonal angle.\n"
     ]
    }
   ],
   "source": [
    "#instructions\n",
    "print(\"Please make sure that your hips are as back as possible on the chair seat.\\nYour back is straight, as tall as possible.\\nYour feet are directly under your knee and resting on the floor.\\nKeep your elbows close to your body and the wrists resting on the table.\\nTake a picture from the side, try to NOT take it fom a diagonal angle.\")\n",
    "\n",
    "#upload the picture (??)"
   ]
  },
  {
   "cell_type": "markdown",
   "id": "3ecb38a8-0084-454f-8b1d-b36297671856",
   "metadata": {},
   "source": [
    "## Show image with recommendations"
   ]
  },
  {
   "cell_type": "code",
   "execution_count": 18,
   "id": "57edec05-46de-4d35-b254-6e1755b46d05",
   "metadata": {},
   "outputs": [
    {
     "data": {
      "image/png": "[encoded data removed]",
      "text/plain": [
       "<Figure size 640x480 with 1 Axes>"
      ]
     },
     "metadata": {},
     "output_type": "display_data"
    }
   ],
   "source": [
    "import matplotlib.pyplot as plt\n",
    "import matplotlib.image as mpimg\n",
    "\n",
    "# Load the image\n",
    "image_path = 'images/sitting_recommendations.png'\n",
    "img = mpimg.imread(image_path)\n",
    "\n",
    "# Display the image\n",
    "plt.imshow(img)\n",
    "plt.axis('off')  # Hide axes\n",
    "plt.show()"
   ]
  },
  {
   "cell_type": "code",
   "execution_count": 19,
   "id": "5a69305f-f84c-48fe-9355-12d9943adf20",
   "metadata": {},
   "outputs": [],
   "source": [
    "# Load the image\n",
    "image = cv2.imread('images/img_chair_up.png')"
   ]
  },
  {
   "cell_type": "code",
   "execution_count": 20,
   "id": "76e56a71-2975-42d1-83fd-49fe55ba54a1",
   "metadata": {},
   "outputs": [],
   "source": [
    "# Process the image to find pose landmarks\n",
    "results = pose.process(cv2.cvtColor(image, cv2.COLOR_BGR2RGB))"
   ]
  },
  {
   "cell_type": "code",
   "execution_count": 21,
   "id": "5fef50e0-34fd-4708-a9d3-8d8abb98f20c",
   "metadata": {},
   "outputs": [
    {
     "name": "stdout",
     "output_type": "stream",
     "text": [
      "Detected Right Side\n",
      "The recommended Hip Angles are between 90 & 120 degrees, your current angle is: 99.06 degrees\n",
      "The recommended Knee Angles are between 90 & 130 degrees, your current angle is: 94.78 degrees\n",
      "The recommended Elbow Angles are between 90 & 120 degrees, your current angle is: 125.21 degrees\n"
     ]
    }
   ],
   "source": [
    "# Process the image to find pose landmarks\n",
    "results = pose.process(cv2.cvtColor(image, cv2.COLOR_BGR2RGB))\n",
    "\n",
    "# Function to calculate the angle between three points\n",
    "def calculate_angle(a, b, c):\n",
    "    a = np.array(a)\n",
    "    b = np.array(b)\n",
    "    c = np.array(c)\n",
    "    ba = a - b\n",
    "    bc = c - b\n",
    "    cosine_angle = np.dot(ba, bc) / (np.linalg.norm(ba) * np.linalg.norm(bc))\n",
    "    angle = np.arccos(cosine_angle)\n",
    "    return np.degrees(angle)\n",
    "\n",
    "# Extract keypoints (landmarks) and calculate angles if landmarks are detected\n",
    "if results.pose_landmarks:\n",
    "    landmarks = results.pose_landmarks.landmark\n",
    "    \n",
    "    # Extract left landmarks\n",
    "    left_shoulder = [landmarks[mp_pose.PoseLandmark.LEFT_SHOULDER.value].x,\n",
    "                     landmarks[mp_pose.PoseLandmark.LEFT_SHOULDER.value].y]\n",
    "    left_elbow = [landmarks[mp_pose.PoseLandmark.LEFT_ELBOW.value].x,\n",
    "                  landmarks[mp_pose.PoseLandmark.LEFT_ELBOW.value].y]\n",
    "    left_wrist = [landmarks[mp_pose.PoseLandmark.LEFT_WRIST.value].x,\n",
    "                  landmarks[mp_pose.PoseLandmark.LEFT_WRIST.value].y]\n",
    "    left_hip = [landmarks[mp_pose.PoseLandmark.LEFT_HIP.value].x,\n",
    "                landmarks[mp_pose.PoseLandmark.LEFT_HIP.value].y]\n",
    "    left_knee = [landmarks[mp_pose.PoseLandmark.LEFT_KNEE.value].x,\n",
    "                 landmarks[mp_pose.PoseLandmark.LEFT_KNEE.value].y]\n",
    "    left_ankle = [landmarks[mp_pose.PoseLandmark.LEFT_ANKLE.value].x,\n",
    "                  landmarks[mp_pose.PoseLandmark.LEFT_ANKLE.value].y]\n",
    "\n",
    "    # Extract right landmarks\n",
    "    right_shoulder = [landmarks[mp_pose.PoseLandmark.RIGHT_SHOULDER.value].x,\n",
    "                      landmarks[mp_pose.PoseLandmark.RIGHT_SHOULDER.value].y]\n",
    "    right_elbow = [landmarks[mp_pose.PoseLandmark.RIGHT_ELBOW.value].x,\n",
    "                   landmarks[mp_pose.PoseLandmark.RIGHT_ELBOW.value].y]\n",
    "    right_wrist = [landmarks[mp_pose.PoseLandmark.RIGHT_WRIST.value].x,\n",
    "                   landmarks[mp_pose.PoseLandmark.RIGHT_WRIST.value].y]\n",
    "    right_hip = [landmarks[mp_pose.PoseLandmark.RIGHT_HIP.value].x,\n",
    "                 landmarks[mp_pose.PoseLandmark.RIGHT_HIP.value].y]\n",
    "    right_knee = [landmarks[mp_pose.PoseLandmark.RIGHT_KNEE.value].x,\n",
    "                  landmarks[mp_pose.PoseLandmark.RIGHT_KNEE.value].y]\n",
    "    right_ankle = [landmarks[mp_pose.PoseLandmark.RIGHT_ANKLE.value].x,\n",
    "                   landmarks[mp_pose.PoseLandmark.RIGHT_ANKLE.value].y]\n",
    "\n",
    "    # Calculate angles for the left side\n",
    "    left_hip_angle = calculate_angle(left_shoulder, left_hip, left_knee)\n",
    "    left_knee_angle = calculate_angle(left_hip, left_knee, left_ankle)\n",
    "    left_elbow_angle = calculate_angle(left_shoulder, left_elbow, left_wrist)\n",
    "\n",
    "    # Calculate angles for the right side\n",
    "    right_hip_angle = calculate_angle(right_shoulder, right_hip, right_knee)\n",
    "    right_knee_angle = calculate_angle(right_hip, right_knee, right_ankle)\n",
    "    right_elbow_angle = calculate_angle(right_shoulder, right_elbow, right_wrist)\n",
    "\n",
    "    # Determine which side is more visible based on confidence scores\n",
    "    if landmarks[mp_pose.PoseLandmark.LEFT_HIP.value].visibility > landmarks[mp_pose.PoseLandmark.RIGHT_HIP.value].visibility:\n",
    "        print(\"Detected Left Side\")\n",
    "        hip_angle = left_hip_angle\n",
    "        knee_angle = left_knee_angle\n",
    "        elbow_angle = left_elbow_angle\n",
    "        \n",
    "        print(f'The recommended Hip Angles are between 90 & 120 degrees, your current angle is: {left_hip_angle:.2f} degrees')\n",
    "        print(f'The recommended Knee Angles are between 90 & 130 degrees, your current angle is: {left_knee_angle:.2f} degrees')\n",
    "        print(f'The recommended Elbow Angles are between 90 & 120 degrees, your current angle is: {left_elbow_angle:.2f} degrees')\n",
    "    else:\n",
    "        print(\"Detected Right Side\")\n",
    "        hip_angle = right_hip_angle\n",
    "        knee_angle = right_knee_angle\n",
    "        elbow_angle = right_elbow_angle\n",
    "        print(f'The recommended Hip Angles are between 90 & 120 degrees, your current angle is: {right_hip_angle:.2f} degrees')\n",
    "        print(f'The recommended Knee Angles are between 90 & 130 degrees, your current angle is: {right_knee_angle:.2f} degrees')\n",
    "        print(f'The recommended Elbow Angles are between 90 & 120 degrees, your current angle is: {right_elbow_angle:.2f} degrees')\n",
    "\n",
    "# Display image with pose landmarks (optional)\n",
    "#mp_drawing = mp.solutions.drawing_utils\n",
    "#mp_drawing.draw_landmarks(image, results.pose_landmarks, mp_pose.POSE_CONNECTIONS)\n",
    "#cv2.imshow('Pose Detection', image)\n",
    "#cv2.waitKey(0)\n",
    "#cv2.destroyAllWindows()"
   ]
  },
  {
   "cell_type": "markdown",
   "id": "2e6aa14e-49a8-48f5-8ea4-aa0e4200061a",
   "metadata": {},
   "source": [
    "## Giving personalised recommendations"
   ]
  },
  {
   "cell_type": "markdown",
   "id": "13c4c7c7-f48e-4391-96e4-5d2e9596e189",
   "metadata": {},
   "source": [
    "#### Recommended angles\n",
    "\n",
    "**Hip**: 90-120 degrees\n",
    "\n",
    "**Knee**: 90-130 degrees\n",
    "\n",
    "**Elbows**: 90-120 degrees"
   ]
  },
  {
   "cell_type": "code",
   "execution_count": 22,
   "id": "494f4a40-e843-493c-abef-ad556f2820c0",
   "metadata": {},
   "outputs": [],
   "source": [
    "#Import python file with the functions\n",
    "import ergonomic_recommendations"
   ]
  },
  {
   "cell_type": "code",
   "execution_count": 23,
   "id": "c47c206c-6dd0-4a46-8c9c-afcafece21d9",
   "metadata": {},
   "outputs": [],
   "source": [
    "#function for recommendations if the desk is not adjustable: ergonomic_analysis_fixed_desk(elbow_angle, hip_angle, knee_angle)"
   ]
  },
  {
   "cell_type": "code",
   "execution_count": 24,
   "id": "f369ce88-4996-43bd-95cd-4d8feae226bb",
   "metadata": {},
   "outputs": [],
   "source": [
    "#function for recommendations if the desk is adjustable: ergonomic_analysis_adjustable_desk(elbow_angle, hip_angle, knee_angle)"
   ]
  },
  {
   "cell_type": "code",
   "execution_count": 25,
   "id": "c5c1888b-3e3c-4ec4-9440-7b6d616ec50d",
   "metadata": {},
   "outputs": [
    {
     "name": "stdin",
     "output_type": "stream",
     "text": [
      "Do you have a standing desk (adjustable)? Please answer with 'yes' or 'no'. yes\n"
     ]
    },
    {
     "name": "stdout",
     "output_type": "stream",
     "text": [
      "Raise the desk to decrease the elbow angle.\n",
      "Your knee and hip angles are okay.\n"
     ]
    }
   ],
   "source": [
    "#determine if the desk is adjustable:\n",
    "\n",
    "desk_adj = input(\"Do you have a standing desk (adjustable)? Please answer with 'yes' or 'no'.\").lower()\n",
    "\n",
    "if desk_adj == 'yes':\n",
    "    result = ergonomic_recommendations.ergonomic_analysis_adjustable_desk(elbow_angle, hip_angle, knee_angle)\n",
    "    for recommendation in result:\n",
    "        print(recommendation)\n",
    "\n",
    "elif desk_adj == 'no':\n",
    "    result = ergonomic_recommendations.ergonomic_analysis_fixed_desk(elbow_angle, hip_angle, knee_angle)\n",
    "    for recommendation in result:\n",
    "        print(recommendation)\n",
    "    \n",
    "else:\n",
    "    print(\"Please enter a valid answer ('yes' or 'no').\")\n"
   ]
  },
  {
   "cell_type": "markdown",
   "id": "a08fd39d-efc4-40c6-a908-a7501ce01d7d",
   "metadata": {},
   "source": [
    "## Interface"
   ]
  },
  {
   "cell_type": "markdown",
   "id": "d4e53e48-2c44-470a-80bb-e5b4c305a4c3",
   "metadata": {},
   "source": [
    "Build an interface to make it acessible for a user to upload a picture and get recommendations"
   ]
  },
  {
   "cell_type": "code",
   "execution_count": 26,
   "id": "9fb87ee0-b4fc-4d39-9005-99967b777f32",
   "metadata": {},
   "outputs": [
    {
     "name": "stdout",
     "output_type": "stream",
     "text": [
      "Requirement already satisfied: streamlit in /opt/anaconda3/lib/python3.11/site-packages (1.30.0)\n",
      "Requirement already satisfied: altair<6,>=4.0 in /opt/anaconda3/lib/python3.11/site-packages (from streamlit) (5.0.1)\n",
      "Requirement already satisfied: blinker<2,>=1.0.0 in /opt/anaconda3/lib/python3.11/site-packages (from streamlit) (1.6.2)\n",
      "Requirement already satisfied: cachetools<6,>=4.0 in /opt/anaconda3/lib/python3.11/site-packages (from streamlit) (4.2.2)\n",
      "Requirement already satisfied: click<9,>=7.0 in /opt/anaconda3/lib/python3.11/site-packages (from streamlit) (8.1.7)\n",
      "Requirement already satisfied: importlib-metadata<8,>=1.4 in /opt/anaconda3/lib/python3.11/site-packages (from streamlit) (7.0.1)\n",
      "Requirement already satisfied: numpy<2,>=1.19.3 in /opt/anaconda3/lib/python3.11/site-packages (from streamlit) (1.26.4)\n",
      "Requirement already satisfied: packaging<24,>=16.8 in /opt/anaconda3/lib/python3.11/site-packages (from streamlit) (23.1)\n",
      "Requirement already satisfied: pandas<3,>=1.3.0 in /opt/anaconda3/lib/python3.11/site-packages (from streamlit) (2.1.4)\n",
      "Requirement already satisfied: pillow<11,>=7.1.0 in /opt/anaconda3/lib/python3.11/site-packages (from streamlit) (10.2.0)\n",
      "Requirement already satisfied: protobuf<5,>=3.20 in /opt/anaconda3/lib/python3.11/site-packages (from streamlit) (4.25.4)\n",
      "Requirement already satisfied: pyarrow>=6.0 in /opt/anaconda3/lib/python3.11/site-packages (from streamlit) (14.0.2)\n",
      "Requirement already satisfied: python-dateutil<3,>=2.7.3 in /opt/anaconda3/lib/python3.11/site-packages (from streamlit) (2.8.2)\n",
      "Requirement already satisfied: requests<3,>=2.27 in /opt/anaconda3/lib/python3.11/site-packages (from streamlit) (2.31.0)\n",
      "Requirement already satisfied: rich<14,>=10.14.0 in /opt/anaconda3/lib/python3.11/site-packages (from streamlit) (13.3.5)\n",
      "Requirement already satisfied: tenacity<9,>=8.1.0 in /opt/anaconda3/lib/python3.11/site-packages (from streamlit) (8.2.2)\n",
      "Requirement already satisfied: toml<2,>=0.10.1 in /opt/anaconda3/lib/python3.11/site-packages (from streamlit) (0.10.2)\n",
      "Requirement already satisfied: typing-extensions<5,>=4.3.0 in /opt/anaconda3/lib/python3.11/site-packages (from streamlit) (4.9.0)\n",
      "Requirement already satisfied: tzlocal<6,>=1.1 in /opt/anaconda3/lib/python3.11/site-packages (from streamlit) (2.1)\n",
      "Requirement already satisfied: validators<1,>=0.2 in /opt/anaconda3/lib/python3.11/site-packages (from streamlit) (0.18.2)\n",
      "Requirement already satisfied: gitpython!=3.1.19,<4,>=3.0.7 in /opt/anaconda3/lib/python3.11/site-packages (from streamlit) (3.1.37)\n",
      "Requirement already satisfied: pydeck<1,>=0.8.0b4 in /opt/anaconda3/lib/python3.11/site-packages (from streamlit) (0.8.0)\n",
      "Requirement already satisfied: tornado<7,>=6.0.3 in /opt/anaconda3/lib/python3.11/site-packages (from streamlit) (6.3.3)\n",
      "Requirement already satisfied: jinja2 in /opt/anaconda3/lib/python3.11/site-packages (from altair<6,>=4.0->streamlit) (3.1.3)\n",
      "Requirement already satisfied: jsonschema>=3.0 in /opt/anaconda3/lib/python3.11/site-packages (from altair<6,>=4.0->streamlit) (4.19.2)\n",
      "Requirement already satisfied: toolz in /opt/anaconda3/lib/python3.11/site-packages (from altair<6,>=4.0->streamlit) (0.12.0)\n",
      "Requirement already satisfied: gitdb<5,>=4.0.1 in /opt/anaconda3/lib/python3.11/site-packages (from gitpython!=3.1.19,<4,>=3.0.7->streamlit) (4.0.7)\n",
      "Requirement already satisfied: zipp>=0.5 in /opt/anaconda3/lib/python3.11/site-packages (from importlib-metadata<8,>=1.4->streamlit) (3.17.0)\n",
      "Requirement already satisfied: pytz>=2020.1 in /opt/anaconda3/lib/python3.11/site-packages (from pandas<3,>=1.3.0->streamlit) (2023.3.post1)\n",
      "Requirement already satisfied: tzdata>=2022.1 in /opt/anaconda3/lib/python3.11/site-packages (from pandas<3,>=1.3.0->streamlit) (2023.3)\n",
      "Requirement already satisfied: six>=1.5 in /opt/anaconda3/lib/python3.11/site-packages (from python-dateutil<3,>=2.7.3->streamlit) (1.16.0)\n",
      "Requirement already satisfied: charset-normalizer<4,>=2 in /opt/anaconda3/lib/python3.11/site-packages (from requests<3,>=2.27->streamlit) (2.0.4)\n",
      "Requirement already satisfied: idna<4,>=2.5 in /opt/anaconda3/lib/python3.11/site-packages (from requests<3,>=2.27->streamlit) (3.4)\n",
      "Requirement already satisfied: urllib3<3,>=1.21.1 in /opt/anaconda3/lib/python3.11/site-packages (from requests<3,>=2.27->streamlit) (2.0.7)\n",
      "Requirement already satisfied: certifi>=2017.4.17 in /opt/anaconda3/lib/python3.11/site-packages (from requests<3,>=2.27->streamlit) (2024.7.4)\n",
      "Requirement already satisfied: markdown-it-py<3.0.0,>=2.2.0 in /opt/anaconda3/lib/python3.11/site-packages (from rich<14,>=10.14.0->streamlit) (2.2.0)\n",
      "Requirement already satisfied: pygments<3.0.0,>=2.13.0 in /opt/anaconda3/lib/python3.11/site-packages (from rich<14,>=10.14.0->streamlit) (2.15.1)\n",
      "Requirement already satisfied: decorator>=3.4.0 in /opt/anaconda3/lib/python3.11/site-packages (from validators<1,>=0.2->streamlit) (5.1.1)\n",
      "Requirement already satisfied: smmap<5,>=3.0.1 in /opt/anaconda3/lib/python3.11/site-packages (from gitdb<5,>=4.0.1->gitpython!=3.1.19,<4,>=3.0.7->streamlit) (4.0.0)\n",
      "Requirement already satisfied: MarkupSafe>=2.0 in /opt/anaconda3/lib/python3.11/site-packages (from jinja2->altair<6,>=4.0->streamlit) (2.1.3)\n",
      "Requirement already satisfied: attrs>=22.2.0 in /opt/anaconda3/lib/python3.11/site-packages (from jsonschema>=3.0->altair<6,>=4.0->streamlit) (23.1.0)\n",
      "Requirement already satisfied: jsonschema-specifications>=2023.03.6 in /opt/anaconda3/lib/python3.11/site-packages (from jsonschema>=3.0->altair<6,>=4.0->streamlit) (2023.7.1)\n",
      "Requirement already satisfied: referencing>=0.28.4 in /opt/anaconda3/lib/python3.11/site-packages (from jsonschema>=3.0->altair<6,>=4.0->streamlit) (0.30.2)\n",
      "Requirement already satisfied: rpds-py>=0.7.1 in /opt/anaconda3/lib/python3.11/site-packages (from jsonschema>=3.0->altair<6,>=4.0->streamlit) (0.10.6)\n",
      "Requirement already satisfied: mdurl~=0.1 in /opt/anaconda3/lib/python3.11/site-packages (from markdown-it-py<3.0.0,>=2.2.0->rich<14,>=10.14.0->streamlit) (0.1.0)\n"
     ]
    }
   ],
   "source": [
    "!pip install streamlit"
   ]
  },
  {
   "cell_type": "code",
   "execution_count": 27,
   "id": "1d81db40-6206-46ec-b034-6c7bc36ed9ca",
   "metadata": {},
   "outputs": [],
   "source": [
    "import streamlit as st\n",
    "from PIL import Image\n",
    "import io"
   ]
  },
  {
   "cell_type": "code",
   "execution_count": null,
   "id": "7af2b165-520f-45bf-8c63-9018e41c64e2",
   "metadata": {},
   "outputs": [],
   "source": []
  }
 ],
 "metadata": {
  "kernelspec": {
   "display_name": "Python 3 (ipykernel)",
   "language": "python",
   "name": "python3"
  },
  "language_info": {
   "codemirror_mode": {
    "name": "ipython",
    "version": 3
   },
   "file_extension": ".py",
   "mimetype": "text/x-python",
   "name": "python",
   "nbconvert_exporter": "python",
   "pygments_lexer": "ipython3",
   "version": "3.11.9"
  }
 },
 "nbformat": 4,
 "nbformat_minor": 5
}
