{
 "cells": [
  {
   "cell_type": "markdown",
   "id": "fc67a0f0-6af8-4946-baf5-a33cd11cae68",
   "metadata": {},
   "source": [
    "# **Neck Posture with video detection**"
   ]
  },
  {
   "cell_type": "code",
   "execution_count": 2,
   "id": "229324f6-b67e-40bf-99a3-841ce6b41251",
   "metadata": {},
   "outputs": [
    {
     "name": "stdout",
     "output_type": "stream",
     "text": [
      "4.10.0\n"
     ]
    }
   ],
   "source": [
    "import cv2\n",
    "print(cv2.__version__)"
   ]
  },
  {
   "cell_type": "code",
   "execution_count": 3,
   "id": "b851e270-da97-4fab-9bda-cbb741e06293",
   "metadata": {},
   "outputs": [],
   "source": [
    "import os\n",
    "import numpy as np\n",
    "import mediapipe as mp\n",
    "import pandas as pd"
   ]
  },
  {
   "cell_type": "code",
   "execution_count": 7,
   "id": "7af05aa4-16d9-4b11-91b0-2714c544811f",
   "metadata": {},
   "outputs": [
    {
     "name": "stderr",
     "output_type": "stream",
     "text": [
      "I0000 00:00:1723452420.362593  351839 gl_context.cc:357] GL version: 2.1 (2.1 Metal - 88.1), renderer: Apple M2\n",
      "W0000 00:00:1723452420.438867  359506 inference_feedback_manager.cc:114] Feedback manager requires a model with a single signature inference. Disabling support for feedback tensors.\n",
      "W0000 00:00:1723452420.446935  359507 inference_feedback_manager.cc:114] Feedback manager requires a model with a single signature inference. Disabling support for feedback tensors.\n"
     ]
    }
   ],
   "source": [
    "# Initialize MediaPipe Pose\n",
    "mp_pose = mp.solutions.pose\n",
    "pose = mp_pose.Pose()\n",
    "\n",
    "# Paths to dataset folders\n",
    "good_posture_dir = '/Users/gabrielaclementedeoliveira/Documents/GitHub/final_project_ironhak/pics_ml/good_neck_posture'\n",
    "bad_posture_dir = '/Users/gabrielaclementedeoliveira/Documents/GitHub/final_project_ironhak/pics_ml/bad_neck_posture'"
   ]
  },
  {
   "cell_type": "code",
   "execution_count": 8,
   "id": "dd8e17e9-0e85-4863-950a-79c34e17a69a",
   "metadata": {},
   "outputs": [
    {
     "name": "stderr",
     "output_type": "stream",
     "text": [
      "/opt/anaconda3/envs/myenv/lib/python3.11/site-packages/google/protobuf/symbol_database.py:55: UserWarning: SymbolDatabase.GetPrototype() is deprecated. Please use message_factory.GetMessageClass() instead. SymbolDatabase.GetPrototype() will be removed soon.\n",
      "  warnings.warn('SymbolDatabase.GetPrototype() is deprecated. Please '\n"
     ]
    }
   ],
   "source": [
    "# Function to extract key points\n",
    "def extract_keypoints(landmarks):\n",
    "    keypoints = []\n",
    "    for landmark in landmarks.landmark:\n",
    "        keypoints.extend([landmark.x, landmark.y, landmark.z])\n",
    "    return keypoints\n",
    "\n",
    "# Prepare a list to hold the dataset\n",
    "data = []\n",
    "\n",
    "# Process images in the \"good_neck_posture\" folder\n",
    "for img_name in os.listdir(good_posture_dir):\n",
    "    img_path = os.path.join(good_posture_dir, img_name)\n",
    "    image = cv2.imread(img_path)\n",
    "\n",
    "    # Convert image to RGB for MediaPipe\n",
    "    image_rgb = cv2.cvtColor(image, cv2.COLOR_BGR2RGB)\n",
    "\n",
    "    # Process the image to extract pose landmarks\n",
    "    result = pose.process(image_rgb)\n",
    "\n",
    "    if result.pose_landmarks:\n",
    "        # Extract key points\n",
    "        keypoints = extract_keypoints(result.pose_landmarks)\n",
    "        \n",
    "        # Append label (\"good\" = 0)\n",
    "        keypoints.append(0)\n",
    "        \n",
    "        # Add to the dataset list\n",
    "        data.append(keypoints)\n",
    "\n",
    "# Process images in the \"bad_neck_posture\" folder\n",
    "for img_name in os.listdir(bad_posture_dir):\n",
    "    img_path = os.path.join(bad_posture_dir, img_name)\n",
    "    image = cv2.imread(img_path)\n",
    "\n",
    "    # Convert image to RGB for MediaPipe\n",
    "    image_rgb = cv2.cvtColor(image, cv2.COLOR_BGR2RGB)\n",
    "\n",
    "    # Process the image to extract pose landmarks\n",
    "    result = pose.process(image_rgb)\n",
    "\n",
    "    if result.pose_landmarks:\n",
    "        # Extract key points\n",
    "        keypoints = extract_keypoints(result.pose_landmarks)\n",
    "        \n",
    "        # Append label (\"bad\" = 1)\n",
    "        keypoints.append(1)\n",
    "        \n",
    "        # Add to the dataset list\n",
    "        data.append(keypoints)\n",
    "\n",
    "# Convert the dataset list to a DataFrame\n",
    "df = pd.DataFrame(data)\n",
    "\n",
    "# Save the DataFrame to a CSV file\n",
    "df.to_csv('neck_posture_dataset.csv', index=False)"
   ]
  },
  {
   "cell_type": "code",
   "execution_count": null,
   "id": "35ce0035-3314-4c28-b108-bca3e7323225",
   "metadata": {},
   "outputs": [],
   "source": []
  },
  {
   "cell_type": "markdown",
   "id": "b1383536-f349-4642-af2c-c612779c8592",
   "metadata": {},
   "source": [
    "## Video recognition of the neck posture"
   ]
  },
  {
   "cell_type": "code",
   "execution_count": null,
   "id": "82e0cb68-846b-443b-a578-5fd55c1fde97",
   "metadata": {},
   "outputs": [
    {
     "name": "stderr",
     "output_type": "stream",
     "text": [
      "WARNING: All log messages before absl::InitializeLog() is called are written to STDERR\n",
      "I0000 00:00:1722957278.082738 224632293 gl_context.cc:357] GL version: 2.1 (2.1 Metal - 88.1), renderer: Apple M2\n",
      "INFO: Created TensorFlow Lite XNNPACK delegate for CPU.\n",
      "W0000 00:00:1722957278.143031 224752241 inference_feedback_manager.cc:114] Feedback manager requires a model with a single signature inference. Disabling support for feedback tensors.\n",
      "W0000 00:00:1722957278.150424 224752241 inference_feedback_manager.cc:114] Feedback manager requires a model with a single signature inference. Disabling support for feedback tensors.\n",
      "/opt/anaconda3/lib/python3.11/site-packages/google/protobuf/symbol_database.py:55: UserWarning: SymbolDatabase.GetPrototype() is deprecated. Please use message_factory.GetMessageClass() instead. SymbolDatabase.GetPrototype() will be removed soon.\n",
      "  warnings.warn('SymbolDatabase.GetPrototype() is deprecated. Please '\n"
     ]
    }
   ],
   "source": [
    "# Initialize MediaPipe Pose\n",
    "mp_pose_video = mp.solutions.pose\n",
    "pose_video = mp_pose_video.Pose()\n",
    "\n",
    "# Initialize OpenCV webcam\n",
    "cap = cv2.VideoCapture(0)\n",
    "\n",
    "# Function to calculate the angle between three points\n",
    "def calculate_angle(a, b, c):\n",
    "    a = np.array(a)\n",
    "    b = np.array(b)\n",
    "    c = np.array(c)\n",
    "    ba = a - b\n",
    "    bc = c - b\n",
    "    cosine_angle = np.dot(ba, bc) / (np.linalg.norm(ba) * np.linalg.norm(bc))\n",
    "    angle = np.arccos(cosine_angle)\n",
    "    return np.degrees(angle)\n",
    "\n",
    "while cap.isOpened():\n",
    "    ret, frame = cap.read()\n",
    "    if not ret:\n",
    "        break\n",
    "\n",
    "    # Convert the frame to RGB\n",
    "    rgb_frame = cv2.cvtColor(frame, cv2.COLOR_BGR2RGB)\n",
    "    results = pose_video.process(rgb_frame)\n",
    "\n",
    "    if results.pose_landmarks:\n",
    "        landmarks = results.pose_landmarks.landmark\n",
    "        \n",
    "        # Extract landmarks for the relevant points\n",
    "        nose = [landmarks[mp_pose_video.PoseLandmark.NOSE.value].x,\n",
    "                landmarks[mp_pose_video.PoseLandmark.NOSE.value].y]\n",
    "        left_shoulder = [landmarks[mp_pose_video.PoseLandmark.LEFT_SHOULDER.value].x,\n",
    "                         landmarks[mp_pose_video.PoseLandmark.LEFT_SHOULDER.value].y]\n",
    "        right_shoulder = [landmarks[mp_pose_video.PoseLandmark.RIGHT_SHOULDER.value].x,\n",
    "                          landmarks[mp_pose_video.PoseLandmark.RIGHT_SHOULDER.value].y]\n",
    "        \n",
    "        # Midpoint of the shoulders\n",
    "        mid_shoulder = np.mean([left_shoulder, right_shoulder], axis=0)\n",
    "\n",
    "        # Calculate the angle between the nose and shoulder line\n",
    "        head_to_shoulder_angle = calculate_angle(nose, mid_shoulder, [mid_shoulder[0], mid_shoulder[1] - 0.1])\n",
    "\n",
    "        # Display the angle and classify posture\n",
    "        if head_to_shoulder_angle < 150:  # You can adjust this threshold based on experimentation\n",
    "            cv2.putText(frame, 'Forward Head Posture Detected', (10, 30), \n",
    "                        cv2.FONT_HERSHEY_SIMPLEX, 1, (0, 0, 255), 2, cv2.LINE_AA)\n",
    "        else:\n",
    "            cv2.putText(frame, 'Good Posture', (10, 30), \n",
    "                        cv2.FONT_HERSHEY_SIMPLEX, 1, (0, 255, 0), 2, cv2.LINE_AA)\n",
    "        \n",
    "        # Draw landmarks\n",
    "        mp.solutions.drawing_utils.draw_landmarks(frame, results.pose_landmarks, mp_pose_video.POSE_CONNECTIONS)\n",
    "\n",
    "    # Display the result\n",
    "    cv2.imshow('Posture Detection', frame)\n",
    "\n",
    "    if cv2.waitKey(10) & 0xFF == ord('q'):\n",
    "        break\n",
    "\n",
    "cap.release()\n",
    "cv2.destroyAllWindows()"
   ]
  },
  {
   "cell_type": "code",
   "execution_count": null,
   "id": "f81113cd-003b-4835-a182-b84064812d50",
   "metadata": {},
   "outputs": [],
   "source": []
  },
  {
   "cell_type": "code",
   "execution_count": null,
   "id": "3baf0e9c-8faf-4412-b4c3-f0809909d6d6",
   "metadata": {},
   "outputs": [],
   "source": []
  }
 ],
 "metadata": {
  "kernelspec": {
   "display_name": "Python 3 (ipykernel)",
   "language": "python",
   "name": "python3"
  },
  "language_info": {
   "codemirror_mode": {
    "name": "ipython",
    "version": 3
   },
   "file_extension": ".py",
   "mimetype": "text/x-python",
   "name": "python",
   "nbconvert_exporter": "python",
   "pygments_lexer": "ipython3",
   "version": "3.11.9"
  }
 },
 "nbformat": 4,
 "nbformat_minor": 5
}
