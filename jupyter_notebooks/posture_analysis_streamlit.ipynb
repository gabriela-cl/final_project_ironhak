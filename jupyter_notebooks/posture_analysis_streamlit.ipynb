{
 "cells": [
  {
   "cell_type": "markdown",
   "id": "5b523c70-1112-4447-95a6-1bdb3688acd3",
   "metadata": {},
   "source": [
    "# **Posture Evaluation - Interface**"
   ]
  },
  {
   "cell_type": "markdown",
   "id": "1536d6c4-febf-4616-b8e3-56eab7c94f37",
   "metadata": {},
   "source": [
    "#### The objective of this part of the project is to receive a picture of a person sitted in an office enviroment and give recommendations of chair and table adjustments, so you can set a more personalised & ergonimic workplace."
   ]
  },
  {
   "cell_type": "markdown",
   "id": "e50b2814-28cc-493f-8832-858657a839b3",
   "metadata": {},
   "source": [
    "#### Install **Streamlit**: Interface"
   ]
  },
  {
   "cell_type": "code",
   "execution_count": 29,
   "id": "689fdb3d-5683-49a9-8463-9bd219a9f7ab",
   "metadata": {},
   "outputs": [
    {
     "name": "stdout",
     "output_type": "stream",
     "text": [
      "Requirement already satisfied: streamlit in /opt/anaconda3/lib/python3.11/site-packages (1.30.0)\n",
      "Requirement already satisfied: altair<6,>=4.0 in /opt/anaconda3/lib/python3.11/site-packages (from streamlit) (5.0.1)\n",
      "Requirement already satisfied: blinker<2,>=1.0.0 in /opt/anaconda3/lib/python3.11/site-packages (from streamlit) (1.6.2)\n",
      "Requirement already satisfied: cachetools<6,>=4.0 in /opt/anaconda3/lib/python3.11/site-packages (from streamlit) (4.2.2)\n",
      "Requirement already satisfied: click<9,>=7.0 in /opt/anaconda3/lib/python3.11/site-packages (from streamlit) (8.1.7)\n",
      "Requirement already satisfied: importlib-metadata<8,>=1.4 in /opt/anaconda3/lib/python3.11/site-packages (from streamlit) (7.0.1)\n",
      "Requirement already satisfied: numpy<2,>=1.19.3 in /opt/anaconda3/lib/python3.11/site-packages (from streamlit) (1.26.4)\n",
      "Requirement already satisfied: packaging<24,>=16.8 in /opt/anaconda3/lib/python3.11/site-packages (from streamlit) (23.1)\n",
      "Requirement already satisfied: pandas<3,>=1.3.0 in /opt/anaconda3/lib/python3.11/site-packages (from streamlit) (2.1.4)\n",
      "Requirement already satisfied: pillow<11,>=7.1.0 in /opt/anaconda3/lib/python3.11/site-packages (from streamlit) (10.2.0)\n",
      "Requirement already satisfied: protobuf<5,>=3.20 in /opt/anaconda3/lib/python3.11/site-packages (from streamlit) (4.25.4)\n",
      "Requirement already satisfied: pyarrow>=6.0 in /opt/anaconda3/lib/python3.11/site-packages (from streamlit) (14.0.2)\n",
      "Requirement already satisfied: python-dateutil<3,>=2.7.3 in /opt/anaconda3/lib/python3.11/site-packages (from streamlit) (2.8.2)\n",
      "Requirement already satisfied: requests<3,>=2.27 in /opt/anaconda3/lib/python3.11/site-packages (from streamlit) (2.31.0)\n",
      "Requirement already satisfied: rich<14,>=10.14.0 in /opt/anaconda3/lib/python3.11/site-packages (from streamlit) (13.3.5)\n",
      "Requirement already satisfied: tenacity<9,>=8.1.0 in /opt/anaconda3/lib/python3.11/site-packages (from streamlit) (8.2.2)\n",
      "Requirement already satisfied: toml<2,>=0.10.1 in /opt/anaconda3/lib/python3.11/site-packages (from streamlit) (0.10.2)\n",
      "Requirement already satisfied: typing-extensions<5,>=4.3.0 in /opt/anaconda3/lib/python3.11/site-packages (from streamlit) (4.9.0)\n",
      "Requirement already satisfied: tzlocal<6,>=1.1 in /opt/anaconda3/lib/python3.11/site-packages (from streamlit) (2.1)\n",
      "Requirement already satisfied: validators<1,>=0.2 in /opt/anaconda3/lib/python3.11/site-packages (from streamlit) (0.18.2)\n",
      "Requirement already satisfied: gitpython!=3.1.19,<4,>=3.0.7 in /opt/anaconda3/lib/python3.11/site-packages (from streamlit) (3.1.37)\n",
      "Requirement already satisfied: pydeck<1,>=0.8.0b4 in /opt/anaconda3/lib/python3.11/site-packages (from streamlit) (0.8.0)\n",
      "Requirement already satisfied: tornado<7,>=6.0.3 in /opt/anaconda3/lib/python3.11/site-packages (from streamlit) (6.3.3)\n",
      "Requirement already satisfied: jinja2 in /opt/anaconda3/lib/python3.11/site-packages (from altair<6,>=4.0->streamlit) (3.1.3)\n",
      "Requirement already satisfied: jsonschema>=3.0 in /opt/anaconda3/lib/python3.11/site-packages (from altair<6,>=4.0->streamlit) (4.19.2)\n",
      "Requirement already satisfied: toolz in /opt/anaconda3/lib/python3.11/site-packages (from altair<6,>=4.0->streamlit) (0.12.0)\n",
      "Requirement already satisfied: gitdb<5,>=4.0.1 in /opt/anaconda3/lib/python3.11/site-packages (from gitpython!=3.1.19,<4,>=3.0.7->streamlit) (4.0.7)\n",
      "Requirement already satisfied: zipp>=0.5 in /opt/anaconda3/lib/python3.11/site-packages (from importlib-metadata<8,>=1.4->streamlit) (3.17.0)\n",
      "Requirement already satisfied: pytz>=2020.1 in /opt/anaconda3/lib/python3.11/site-packages (from pandas<3,>=1.3.0->streamlit) (2023.3.post1)\n",
      "Requirement already satisfied: tzdata>=2022.1 in /opt/anaconda3/lib/python3.11/site-packages (from pandas<3,>=1.3.0->streamlit) (2023.3)\n",
      "Requirement already satisfied: six>=1.5 in /opt/anaconda3/lib/python3.11/site-packages (from python-dateutil<3,>=2.7.3->streamlit) (1.16.0)\n",
      "Requirement already satisfied: charset-normalizer<4,>=2 in /opt/anaconda3/lib/python3.11/site-packages (from requests<3,>=2.27->streamlit) (2.0.4)\n",
      "Requirement already satisfied: idna<4,>=2.5 in /opt/anaconda3/lib/python3.11/site-packages (from requests<3,>=2.27->streamlit) (3.4)\n",
      "Requirement already satisfied: urllib3<3,>=1.21.1 in /opt/anaconda3/lib/python3.11/site-packages (from requests<3,>=2.27->streamlit) (2.0.7)\n",
      "Requirement already satisfied: certifi>=2017.4.17 in /opt/anaconda3/lib/python3.11/site-packages (from requests<3,>=2.27->streamlit) (2024.7.4)\n",
      "Requirement already satisfied: markdown-it-py<3.0.0,>=2.2.0 in /opt/anaconda3/lib/python3.11/site-packages (from rich<14,>=10.14.0->streamlit) (2.2.0)\n",
      "Requirement already satisfied: pygments<3.0.0,>=2.13.0 in /opt/anaconda3/lib/python3.11/site-packages (from rich<14,>=10.14.0->streamlit) (2.15.1)\n",
      "Requirement already satisfied: decorator>=3.4.0 in /opt/anaconda3/lib/python3.11/site-packages (from validators<1,>=0.2->streamlit) (5.1.1)\n",
      "Requirement already satisfied: smmap<5,>=3.0.1 in /opt/anaconda3/lib/python3.11/site-packages (from gitdb<5,>=4.0.1->gitpython!=3.1.19,<4,>=3.0.7->streamlit) (4.0.0)\n",
      "Requirement already satisfied: MarkupSafe>=2.0 in /opt/anaconda3/lib/python3.11/site-packages (from jinja2->altair<6,>=4.0->streamlit) (2.1.3)\n",
      "Requirement already satisfied: attrs>=22.2.0 in /opt/anaconda3/lib/python3.11/site-packages (from jsonschema>=3.0->altair<6,>=4.0->streamlit) (23.1.0)\n",
      "Requirement already satisfied: jsonschema-specifications>=2023.03.6 in /opt/anaconda3/lib/python3.11/site-packages (from jsonschema>=3.0->altair<6,>=4.0->streamlit) (2023.7.1)\n",
      "Requirement already satisfied: referencing>=0.28.4 in /opt/anaconda3/lib/python3.11/site-packages (from jsonschema>=3.0->altair<6,>=4.0->streamlit) (0.30.2)\n",
      "Requirement already satisfied: rpds-py>=0.7.1 in /opt/anaconda3/lib/python3.11/site-packages (from jsonschema>=3.0->altair<6,>=4.0->streamlit) (0.10.6)\n",
      "Requirement already satisfied: mdurl~=0.1 in /opt/anaconda3/lib/python3.11/site-packages (from markdown-it-py<3.0.0,>=2.2.0->rich<14,>=10.14.0->streamlit) (0.1.0)\n"
     ]
    }
   ],
   "source": [
    "!pip install streamlit"
   ]
  },
  {
   "cell_type": "markdown",
   "id": "708d3d80-52b0-4556-80e7-68a206ad4c87",
   "metadata": {},
   "source": [
    "#### Install **Mediapipe Pose**: This framework can detect and track 33 key landmarks on the human body, including shoulders, elbows, wrists, hips, knees, and ankles."
   ]
  },
  {
   "cell_type": "code",
   "execution_count": 30,
   "id": "11b7b726-9953-4e2c-b2e6-f8d0fb1a0275",
   "metadata": {},
   "outputs": [
    {
     "name": "stdout",
     "output_type": "stream",
     "text": [
      "Requirement already satisfied: mediapipe in /opt/anaconda3/lib/python3.11/site-packages (0.10.14)\n",
      "Requirement already satisfied: absl-py in /opt/anaconda3/lib/python3.11/site-packages (from mediapipe) (2.1.0)\n",
      "Requirement already satisfied: attrs>=19.1.0 in /opt/anaconda3/lib/python3.11/site-packages (from mediapipe) (23.1.0)\n",
      "Requirement already satisfied: flatbuffers>=2.0 in /opt/anaconda3/lib/python3.11/site-packages (from mediapipe) (24.3.25)\n",
      "Requirement already satisfied: jax in /opt/anaconda3/lib/python3.11/site-packages (from mediapipe) (0.4.31)\n",
      "Requirement already satisfied: jaxlib in /opt/anaconda3/lib/python3.11/site-packages (from mediapipe) (0.4.31)\n",
      "Requirement already satisfied: matplotlib in /opt/anaconda3/lib/python3.11/site-packages (from mediapipe) (3.8.0)\n",
      "Requirement already satisfied: numpy in /opt/anaconda3/lib/python3.11/site-packages (from mediapipe) (1.26.4)\n",
      "Requirement already satisfied: opencv-contrib-python in /opt/anaconda3/lib/python3.11/site-packages (from mediapipe) (4.10.0.84)\n",
      "Requirement already satisfied: protobuf<5,>=4.25.3 in /opt/anaconda3/lib/python3.11/site-packages (from mediapipe) (4.25.4)\n",
      "Requirement already satisfied: sounddevice>=0.4.4 in /opt/anaconda3/lib/python3.11/site-packages (from mediapipe) (0.4.7)\n",
      "Requirement already satisfied: CFFI>=1.0 in /opt/anaconda3/lib/python3.11/site-packages (from sounddevice>=0.4.4->mediapipe) (1.16.0)\n",
      "Requirement already satisfied: ml-dtypes>=0.2.0 in /opt/anaconda3/lib/python3.11/site-packages (from jax->mediapipe) (0.4.0)\n",
      "Requirement already satisfied: opt-einsum in /opt/anaconda3/lib/python3.11/site-packages (from jax->mediapipe) (3.3.0)\n",
      "Requirement already satisfied: scipy>=1.10 in /opt/anaconda3/lib/python3.11/site-packages (from jax->mediapipe) (1.11.4)\n",
      "Requirement already satisfied: contourpy>=1.0.1 in /opt/anaconda3/lib/python3.11/site-packages (from matplotlib->mediapipe) (1.2.0)\n",
      "Requirement already satisfied: cycler>=0.10 in /opt/anaconda3/lib/python3.11/site-packages (from matplotlib->mediapipe) (0.11.0)\n",
      "Requirement already satisfied: fonttools>=4.22.0 in /opt/anaconda3/lib/python3.11/site-packages (from matplotlib->mediapipe) (4.25.0)\n",
      "Requirement already satisfied: kiwisolver>=1.0.1 in /opt/anaconda3/lib/python3.11/site-packages (from matplotlib->mediapipe) (1.4.4)\n",
      "Requirement already satisfied: packaging>=20.0 in /opt/anaconda3/lib/python3.11/site-packages (from matplotlib->mediapipe) (23.1)\n",
      "Requirement already satisfied: pillow>=6.2.0 in /opt/anaconda3/lib/python3.11/site-packages (from matplotlib->mediapipe) (10.2.0)\n",
      "Requirement already satisfied: pyparsing>=2.3.1 in /opt/anaconda3/lib/python3.11/site-packages (from matplotlib->mediapipe) (3.0.9)\n",
      "Requirement already satisfied: python-dateutil>=2.7 in /opt/anaconda3/lib/python3.11/site-packages (from matplotlib->mediapipe) (2.8.2)\n",
      "Requirement already satisfied: pycparser in /opt/anaconda3/lib/python3.11/site-packages (from CFFI>=1.0->sounddevice>=0.4.4->mediapipe) (2.21)\n",
      "Requirement already satisfied: six>=1.5 in /opt/anaconda3/lib/python3.11/site-packages (from python-dateutil>=2.7->matplotlib->mediapipe) (1.16.0)\n"
     ]
    }
   ],
   "source": [
    "!pip install mediapipe"
   ]
  },
  {
   "cell_type": "markdown",
   "id": "066da07f-5a4f-41a5-b915-ee9d10d77f76",
   "metadata": {},
   "source": [
    "#### Install **OpenCV (Open Source Computer Vision Library)** for image and video processing:"
   ]
  },
  {
   "cell_type": "code",
   "execution_count": 31,
   "id": "f7cb5ef2-9e31-4f1f-84e1-bbc443f5006c",
   "metadata": {},
   "outputs": [
    {
     "name": "stdout",
     "output_type": "stream",
     "text": [
      "Requirement already satisfied: opencv-python in /opt/anaconda3/lib/python3.11/site-packages (4.10.0.84)\n",
      "Requirement already satisfied: numpy>=1.21.2 in /opt/anaconda3/lib/python3.11/site-packages (from opencv-python) (1.26.4)\n"
     ]
    }
   ],
   "source": [
    "!pip install opencv-python"
   ]
  },
  {
   "cell_type": "markdown",
   "id": "be852d5b-4d2a-40df-bf9a-74e600ad8e08",
   "metadata": {},
   "source": [
    "## Interface"
   ]
  },
  {
   "cell_type": "markdown",
   "id": "309cf3ab-609b-45c8-bbee-847f7b599950",
   "metadata": {},
   "source": [
    "Build an interface to make it acessible for a user to upload a picture and get recommendations using Streamlit"
   ]
  },
  {
   "cell_type": "code",
   "execution_count": 42,
   "id": "dba2045f-3f52-45c8-8cea-91077ab60aa3",
   "metadata": {},
   "outputs": [
    {
     "name": "stdout",
     "output_type": "stream",
     "text": [
      "OpenCV version: 4.10.0\n",
      "MediaPipe version: 0.10.14\n"
     ]
    }
   ],
   "source": [
    "import streamlit as st\n",
    "from PIL import Image\n",
    "import cv2\n",
    "import numpy as np\n",
    "import mediapipe as mp\n",
    "import ergonomic_recommendations_streamlit\n",
    "\n",
    "print(\"OpenCV version:\", cv2.__version__)\n",
    "print(\"MediaPipe version:\", mp.__version__)"
   ]
  },
  {
   "cell_type": "code",
   "execution_count": 43,
   "id": "942e968b-415a-4d6e-8353-91c41cbe09a6",
   "metadata": {},
   "outputs": [
    {
     "name": "stderr",
     "output_type": "stream",
     "text": [
      "I0000 00:00:1723190186.946822 242149731 gl_context.cc:357] GL version: 2.1 (2.1 Metal - 88.1), renderer: Apple M2\n",
      "W0000 00:00:1723190187.020959 242285392 inference_feedback_manager.cc:114] Feedback manager requires a model with a single signature inference. Disabling support for feedback tensors.\n",
      "W0000 00:00:1723190187.026530 242285390 inference_feedback_manager.cc:114] Feedback manager requires a model with a single signature inference. Disabling support for feedback tensors.\n"
     ]
    }
   ],
   "source": [
    "# Initialize MediaPipe Pose\n",
    "mp_pose = mp.solutions.pose\n",
    "pose = mp_pose.Pose(static_image_mode=True)\n",
    "mp_drawing = mp.solutions.drawing_utils\n",
    "\n",
    "# Title of the app\n",
    "st.title(\"Ergonomic Recommendations: Set Up Your Workplace\")\n",
    "\n",
    "# Introductory information\n",
    "st.subheader(\"First, we will need some information:\")\n",
    "\n",
    "# Ask the user if they have an adjustable desk\n",
    "desk_adj = st.radio(\"Do you have an adjustable desk?\", ('yes', 'no'))\n",
    "\n",
    "# Instructions for the picture\n",
    "st.subheader(\"Now, we will need a picture of you sitting at your work desk:\")\n",
    "\n",
    "st.write(\"Please make sure that your hips are as back as possible on the chair seat.\")\n",
    "st.write(\"Your back is straight, as tall as possible.\")\n",
    "st.write(\"Your feet are directly under your knee and resting on the floor.\")\n",
    "st.write(\"Keep your elbows close to your body and the wrists resting on the table.\")\n",
    "st.write(\"Take a picture from the side, try to NOT take it from a diagonal angle.\")\n",
    "\n",
    "# Display an example image\n",
    "example_image_path = 'images/sitting_recommendations.png'  # Path to your example image\n",
    "example_image = Image.open(example_image_path)\n",
    "st.image(example_image, caption='Example: Correct Sitting Posture', use_column_width=True)\n",
    "\n",
    "# File uploader for the user's picture\n",
    "uploaded_file = st.file_uploader(\"Upload an image of yourself at your desk\", type=[\"png\", \"jpg\", \"jpeg\"])\n",
    "\n",
    "if uploaded_file is not None:\n",
    "    # Load the uploaded image\n",
    "    image = Image.open(uploaded_file)\n",
    "    image_np = np.array(image)\n",
    "\n",
    "    # Flip the image vertically to match coordinate system\n",
    "    image_np_flipped = np.flipud(image_np)\n",
    "\n",
    "    # Process the image to find pose landmarks\n",
    "    results = pose.process(cv2.cvtColor(image_np_flipped, cv2.COLOR_RGB2BGR))\n",
    "\n",
    "    # Draw pose landmarks on the image\n",
    "    if results.pose_landmarks:\n",
    "        # Convert to BGR format for OpenCV drawing\n",
    "        image_with_landmarks = cv2.cvtColor(image_np_flipped, cv2.COLOR_RGB2BGR)\n",
    "        mp_drawing.draw_landmarks(image_with_landmarks, results.pose_landmarks, mp_pose.POSE_CONNECTIONS)\n",
    "        \n",
    "        # Convert back to RGB format and flip vertically to display correctly\n",
    "        image_with_landmarks = cv2.cvtColor(image_with_landmarks, cv2.COLOR_BGR2RGB)\n",
    "        image_with_landmarks = np.flipud(image_with_landmarks)\n",
    "\n",
    "        # Display the image with landmarks\n",
    "        st.image(image_with_landmarks, caption='Image with Pose Landmarks', use_column_width=True)\n",
    "\n",
    "    # Function to calculate the angle between three points\n",
    "    def calculate_angle(a, b, c):\n",
    "        a = np.array(a)\n",
    "        b = np.array(b)\n",
    "        c = np.array(c)\n",
    "        ba = a - b\n",
    "        bc = c - b\n",
    "        cosine_angle = np.dot(ba, bc) / (np.linalg.norm(ba) * np.linalg.norm(bc))\n",
    "        angle = np.arccos(cosine_angle)\n",
    "        return np.degrees(angle)\n",
    "\n",
    "    # Extract keypoints (landmarks) and calculate angles if landmarks are detected\n",
    "    if results.pose_landmarks:\n",
    "        landmarks = results.pose_landmarks.landmark\n",
    "\n",
    "        # Extract left landmarks\n",
    "        left_shoulder = [landmarks[mp_pose.PoseLandmark.LEFT_SHOULDER.value].x,\n",
    "                         landmarks[mp_pose.PoseLandmark.LEFT_SHOULDER.value].y]\n",
    "        left_elbow = [landmarks[mp_pose.PoseLandmark.LEFT_ELBOW.value].x,\n",
    "                      landmarks[mp_pose.PoseLandmark.LEFT_ELBOW.value].y]\n",
    "        left_wrist = [landmarks[mp_pose.PoseLandmark.LEFT_WRIST.value].x,\n",
    "                      landmarks[mp_pose.PoseLandmark.LEFT_WRIST.value].y]\n",
    "        left_hip = [landmarks[mp_pose.PoseLandmark.LEFT_HIP.value].x,\n",
    "                    landmarks[mp_pose.PoseLandmark.LEFT_HIP.value].y]\n",
    "        left_knee = [landmarks[mp_pose.PoseLandmark.LEFT_KNEE.value].x,\n",
    "                     landmarks[mp_pose.PoseLandmark.LEFT_KNEE.value].y]\n",
    "        left_ankle = [landmarks[mp_pose.PoseLandmark.LEFT_ANKLE.value].x,\n",
    "                      landmarks[mp_pose.PoseLandmark.LEFT_ANKLE.value].y]\n",
    "\n",
    "        # Extract right landmarks\n",
    "        right_shoulder = [landmarks[mp_pose.PoseLandmark.RIGHT_SHOULDER.value].x,\n",
    "                          landmarks[mp_pose.PoseLandmark.RIGHT_SHOULDER.value].y]\n",
    "        right_elbow = [landmarks[mp_pose.PoseLandmark.RIGHT_ELBOW.value].x,\n",
    "                       landmarks[mp_pose.PoseLandmark.RIGHT_ELBOW.value].y]\n",
    "        right_wrist = [landmarks[mp_pose.PoseLandmark.RIGHT_WRIST.value].x,\n",
    "                       landmarks[mp_pose.PoseLandmark.RIGHT_WRIST.value].y]\n",
    "        right_hip = [landmarks[mp_pose.PoseLandmark.RIGHT_HIP.value].x,\n",
    "                     landmarks[mp_pose.PoseLandmark.RIGHT_HIP.value].y]\n",
    "        right_knee = [landmarks[mp_pose.PoseLandmark.RIGHT_KNEE.value].x,\n",
    "                      landmarks[mp_pose.PoseLandmark.RIGHT_KNEE.value].y]\n",
    "        right_ankle = [landmarks[mp_pose.PoseLandmark.RIGHT_ANKLE.value].x,\n",
    "                       landmarks[mp_pose.PoseLandmark.RIGHT_ANKLE.value].y]\n",
    "\n",
    "        # Calculate angles for the left side\n",
    "        left_hip_angle = calculate_angle(left_shoulder, left_hip, left_knee)\n",
    "        left_knee_angle = calculate_angle(left_hip, left_knee, left_ankle)\n",
    "        left_elbow_angle = calculate_angle(left_shoulder, left_elbow, left_wrist)\n",
    "\n",
    "        # Calculate angles for the right side\n",
    "        right_hip_angle = calculate_angle(right_shoulder, right_hip, right_knee)\n",
    "        right_knee_angle = calculate_angle(right_hip, right_knee, right_ankle)\n",
    "        right_elbow_angle = calculate_angle(right_shoulder, right_elbow, right_wrist)\n",
    "\n",
    "        # Determine which side is more visible based on confidence scores\n",
    "        if landmarks[mp_pose.PoseLandmark.LEFT_HIP.value].visibility > landmarks[mp_pose.PoseLandmark.RIGHT_HIP.value].visibility:\n",
    "            st.subheader(\"Here are your results & recommendations:\")\n",
    "            hip_angle = left_hip_angle\n",
    "            knee_angle = left_knee_angle\n",
    "            elbow_angle = left_elbow_angle\n",
    "\n",
    "            st.write(f'The recommended Hip Angle is between 90 & 120 degrees. Your current angle is: {left_hip_angle:.2f} degrees')\n",
    "            st.write(f'The recommended Knee Angle is between 90 & 130 degrees. Your current angle is: {left_knee_angle:.2f} degrees')\n",
    "            st.write(f'The recommended Elbow Angle is between 90 & 120 degrees. Your current angle is: {left_elbow_angle:.2f} degrees')\n",
    "        else:\n",
    "            st.subheader(\"Here are your results & recommendations:\")\n",
    "            hip_angle = right_hip_angle\n",
    "            knee_angle = right_knee_angle\n",
    "            elbow_angle = right_elbow_angle\n",
    "\n",
    "            st.write(f'The recommended Hip Angle is between 90 & 120 degrees. Your current angle is: {right_hip_angle:.2f} degrees')\n",
    "            st.write(f'The recommended Knee Angle is between 90 & 130 degrees. Your current angle is: {right_knee_angle:.2f} degrees')\n",
    "            st.write(f'The recommended Elbow Angle is between 90 & 120 degrees. Your current angle is: {right_elbow_angle:.2f} degrees')\n",
    "\n",
    "        # Call the appropriate function based on the desk type\n",
    "        if desk_adj == 'yes':\n",
    "            result = ergonomic_recommendations_streamlit.ergonomic_analysis_adjustable_desk(elbow_angle, hip_angle, knee_angle)\n",
    "        elif desk_adj == 'no':\n",
    "            result = ergonomic_recommendations_streamlit.ergonomic_analysis_fixed_desk(elbow_angle, hip_angle, knee_angle)\n",
    "        \n",
    "        # Display the recommendations\n",
    "        for recommendation in result:\n",
    "            st.write(recommendation)"
   ]
  },
  {
   "cell_type": "code",
   "execution_count": 45,
   "id": "7af2b165-520f-45bf-8c63-9018e41c64e2",
   "metadata": {},
   "outputs": [],
   "source": [
    "#streamlit run streamlit_code.py"
   ]
  },
  {
   "cell_type": "code",
   "execution_count": null,
   "id": "236495b5-ca66-4699-84e0-ce847678f4ca",
   "metadata": {},
   "outputs": [],
   "source": []
  }
 ],
 "metadata": {
  "kernelspec": {
   "display_name": "Python 3 (ipykernel)",
   "language": "python",
   "name": "python3"
  },
  "language_info": {
   "codemirror_mode": {
    "name": "ipython",
    "version": 3
   },
   "file_extension": ".py",
   "mimetype": "text/x-python",
   "name": "python",
   "nbconvert_exporter": "python",
   "pygments_lexer": "ipython3",
   "version": "3.11.9"
  }
 },
 "nbformat": 4,
 "nbformat_minor": 5
}
